{
 "cells": [
  {
   "cell_type": "code",
   "execution_count": 1,
   "metadata": {},
   "outputs": [],
   "source": [
    "import pandas as pd\n",
    "import math"
   ]
  },
  {
   "cell_type": "code",
   "execution_count": 2,
   "metadata": {},
   "outputs": [],
   "source": [
    "df1 = pd.read_csv('urldata.csv')\n",
    "df1.drop('Unnamed: 0', axis=1, inplace=True)"
   ]
  },
  {
   "cell_type": "code",
   "execution_count": 3,
   "metadata": {},
   "outputs": [],
   "source": [
    "with open('1000-phishing.txt','r') as myfile:\n",
    "    phishing_sites = myfile.read().splitlines()\n",
    "\n",
    "df_phish = pd.DataFrame(phishing_sites, columns=['url'])"
   ]
  },
  {
   "cell_type": "code",
   "execution_count": 4,
   "metadata": {},
   "outputs": [],
   "source": [
    "df_phish['label'] = 'malicious'\n",
    "df_phish['result'] = 1"
   ]
  },
  {
   "cell_type": "code",
   "execution_count": 5,
   "metadata": {},
   "outputs": [
    {
     "data": {
      "text/html": [
       "<div>\n",
       "<style scoped>\n",
       "    .dataframe tbody tr th:only-of-type {\n",
       "        vertical-align: middle;\n",
       "    }\n",
       "\n",
       "    .dataframe tbody tr th {\n",
       "        vertical-align: top;\n",
       "    }\n",
       "\n",
       "    .dataframe thead th {\n",
       "        text-align: right;\n",
       "    }\n",
       "</style>\n",
       "<table border=\"1\" class=\"dataframe\">\n",
       "  <thead>\n",
       "    <tr style=\"text-align: right;\">\n",
       "      <th></th>\n",
       "      <th>url</th>\n",
       "      <th>label</th>\n",
       "      <th>result</th>\n",
       "    </tr>\n",
       "  </thead>\n",
       "  <tbody>\n",
       "    <tr>\n",
       "      <th>0</th>\n",
       "      <td>http://asesoresvelfit.com/media/datacredito.co/</td>\n",
       "      <td>malicious</td>\n",
       "      <td>1</td>\n",
       "    </tr>\n",
       "    <tr>\n",
       "      <th>1</th>\n",
       "      <td>http://caixa.com.br.fgtsagendesaqueconta.com/c...</td>\n",
       "      <td>malicious</td>\n",
       "      <td>1</td>\n",
       "    </tr>\n",
       "    <tr>\n",
       "      <th>2</th>\n",
       "      <td>http://hissoulreason.com/js/homepage/home/</td>\n",
       "      <td>malicious</td>\n",
       "      <td>1</td>\n",
       "    </tr>\n",
       "    <tr>\n",
       "      <th>3</th>\n",
       "      <td>http://unauthorizd.newebpage.com/webapps/66fbf/</td>\n",
       "      <td>malicious</td>\n",
       "      <td>1</td>\n",
       "    </tr>\n",
       "    <tr>\n",
       "      <th>4</th>\n",
       "      <td>http://133.130.103.10/23/</td>\n",
       "      <td>malicious</td>\n",
       "      <td>1</td>\n",
       "    </tr>\n",
       "    <tr>\n",
       "      <th>...</th>\n",
       "      <td>...</td>\n",
       "      <td>...</td>\n",
       "      <td>...</td>\n",
       "    </tr>\n",
       "    <tr>\n",
       "      <th>993</th>\n",
       "      <td>http://www.guzheng.com.my/libraries/joomla/ses...</td>\n",
       "      <td>malicious</td>\n",
       "      <td>1</td>\n",
       "    </tr>\n",
       "    <tr>\n",
       "      <th>994</th>\n",
       "      <td>http://www.ioam.org.cn/plugins/system/Atendime...</td>\n",
       "      <td>malicious</td>\n",
       "      <td>1</td>\n",
       "    </tr>\n",
       "    <tr>\n",
       "      <th>995</th>\n",
       "      <td>https://theparlourbeautyrooms.ie/dehl/Yah/T/Y1...</td>\n",
       "      <td>malicious</td>\n",
       "      <td>1</td>\n",
       "    </tr>\n",
       "    <tr>\n",
       "      <th>996</th>\n",
       "      <td>http://loogin-facebook-settinggst.esy.es/confi...</td>\n",
       "      <td>malicious</td>\n",
       "      <td>1</td>\n",
       "    </tr>\n",
       "    <tr>\n",
       "      <th>997</th>\n",
       "      <td>http://halpcenter-acontscheck.esy.es/recovery-...</td>\n",
       "      <td>malicious</td>\n",
       "      <td>1</td>\n",
       "    </tr>\n",
       "  </tbody>\n",
       "</table>\n",
       "<p>998 rows × 3 columns</p>\n",
       "</div>"
      ],
      "text/plain": [
       "                                                   url      label  result\n",
       "0      http://asesoresvelfit.com/media/datacredito.co/  malicious       1\n",
       "1    http://caixa.com.br.fgtsagendesaqueconta.com/c...  malicious       1\n",
       "2           http://hissoulreason.com/js/homepage/home/  malicious       1\n",
       "3      http://unauthorizd.newebpage.com/webapps/66fbf/  malicious       1\n",
       "4                            http://133.130.103.10/23/  malicious       1\n",
       "..                                                 ...        ...     ...\n",
       "993  http://www.guzheng.com.my/libraries/joomla/ses...  malicious       1\n",
       "994  http://www.ioam.org.cn/plugins/system/Atendime...  malicious       1\n",
       "995  https://theparlourbeautyrooms.ie/dehl/Yah/T/Y1...  malicious       1\n",
       "996  http://loogin-facebook-settinggst.esy.es/confi...  malicious       1\n",
       "997  http://halpcenter-acontscheck.esy.es/recovery-...  malicious       1\n",
       "\n",
       "[998 rows x 3 columns]"
      ]
     },
     "execution_count": 5,
     "metadata": {},
     "output_type": "execute_result"
    }
   ],
   "source": [
    "df_phish"
   ]
  },
  {
   "cell_type": "code",
   "execution_count": 6,
   "metadata": {},
   "outputs": [],
   "source": [
    "combined_df = pd.concat([df1, df_phish], ignore_index=True)"
   ]
  },
  {
   "cell_type": "code",
   "execution_count": null,
   "metadata": {},
   "outputs": [],
   "source": [
    "combined_df"
   ]
  },
  {
   "cell_type": "code",
   "execution_count": 7,
   "metadata": {},
   "outputs": [],
   "source": [
    "# Label 1 corresponds to a legitimate URL, label 0 to a phishing URL\n",
    "df2 = pd.read_csv('PhiUSIIL_Phishing_URL_Dataset.csv')\n",
    "df3 = df2[df2['label']==0]"
   ]
  },
  {
   "cell_type": "code",
   "execution_count": 8,
   "metadata": {},
   "outputs": [
    {
     "name": "stderr",
     "output_type": "stream",
     "text": [
      "C:\\Users\\Shubham kelkar\\AppData\\Local\\Temp\\ipykernel_33304\\226711659.py:1: SettingWithCopyWarning: \n",
      "A value is trying to be set on a copy of a slice from a DataFrame\n",
      "\n",
      "See the caveats in the documentation: https://pandas.pydata.org/pandas-docs/stable/user_guide/indexing.html#returning-a-view-versus-a-copy\n",
      "  df3.drop(['Domain', 'DomainLength', 'IsDomainIP', 'TLD',\n"
     ]
    }
   ],
   "source": [
    "df3.drop(['Domain', 'DomainLength', 'IsDomainIP', 'TLD',\n",
    "       'URLSimilarityIndex', 'CharContinuationRate', 'TLDLegitimateProb',\n",
    "       'URLCharProb', 'TLDLength', 'NoOfSubDomain', 'HasObfuscation',\n",
    "       'NoOfObfuscatedChar', 'ObfuscationRatio', 'NoOfLettersInURL',\n",
    "       'LetterRatioInURL', 'NoOfDegitsInURL', 'DegitRatioInURL',\n",
    "       'NoOfEqualsInURL', 'NoOfQMarkInURL', 'NoOfAmpersandInURL',\n",
    "       'NoOfOtherSpecialCharsInURL', 'SpacialCharRatioInURL', 'IsHTTPS',\n",
    "       'LineOfCode', 'LargestLineLength', 'HasTitle', 'Title',\n",
    "       'DomainTitleMatchScore', 'URLTitleMatchScore', 'HasFavicon', 'Robots',\n",
    "       'IsResponsive', 'NoOfURLRedirect', 'NoOfSelfRedirect', 'HasDescription',\n",
    "       'NoOfPopup', 'NoOfiFrame', 'HasExternalFormSubmit', 'HasSocialNet',\n",
    "       'HasSubmitButton', 'HasHiddenFields', 'HasPasswordField', 'Bank', 'Pay',\n",
    "       'Crypto', 'HasCopyrightInfo', 'NoOfImage', 'NoOfCSS', 'NoOfJS',\n",
    "       'NoOfSelfRef', 'NoOfEmptyRef', 'NoOfExternalRef'], axis=1, inplace = True)"
   ]
  },
  {
   "cell_type": "code",
   "execution_count": 9,
   "metadata": {},
   "outputs": [
    {
     "name": "stderr",
     "output_type": "stream",
     "text": [
      "C:\\Users\\Shubham kelkar\\AppData\\Local\\Temp\\ipykernel_33304\\1381114285.py:1: SettingWithCopyWarning: \n",
      "A value is trying to be set on a copy of a slice from a DataFrame\n",
      "\n",
      "See the caveats in the documentation: https://pandas.pydata.org/pandas-docs/stable/user_guide/indexing.html#returning-a-view-versus-a-copy\n",
      "  df3.rename(columns={'URL':'url'}, inplace=True)\n"
     ]
    }
   ],
   "source": [
    "df3.rename(columns={'URL':'url'}, inplace=True)"
   ]
  },
  {
   "cell_type": "code",
   "execution_count": 11,
   "metadata": {},
   "outputs": [
    {
     "name": "stderr",
     "output_type": "stream",
     "text": [
      "C:\\Users\\Shubham kelkar\\AppData\\Local\\Temp\\ipykernel_33304\\486857644.py:1: SettingWithCopyWarning: \n",
      "A value is trying to be set on a copy of a slice from a DataFrame\n",
      "\n",
      "See the caveats in the documentation: https://pandas.pydata.org/pandas-docs/stable/user_guide/indexing.html#returning-a-view-versus-a-copy\n",
      "  df3.rename(columns={'label':'result'}, inplace=True)\n"
     ]
    }
   ],
   "source": [
    "df3.rename(columns={'label':'result'}, inplace=True)"
   ]
  },
  {
   "cell_type": "code",
   "execution_count": 13,
   "metadata": {},
   "outputs": [
    {
     "name": "stderr",
     "output_type": "stream",
     "text": [
      "C:\\Users\\Shubham kelkar\\AppData\\Local\\Temp\\ipykernel_33304\\1520579985.py:1: SettingWithCopyWarning: \n",
      "A value is trying to be set on a copy of a slice from a DataFrame.\n",
      "Try using .loc[row_indexer,col_indexer] = value instead\n",
      "\n",
      "See the caveats in the documentation: https://pandas.pydata.org/pandas-docs/stable/user_guide/indexing.html#returning-a-view-versus-a-copy\n",
      "  df3['label'] = 'malicious'\n"
     ]
    }
   ],
   "source": [
    "df3['label'] = 'malicious'"
   ]
  },
  {
   "cell_type": "code",
   "execution_count": 15,
   "metadata": {},
   "outputs": [
    {
     "name": "stderr",
     "output_type": "stream",
     "text": [
      "C:\\Users\\Shubham kelkar\\AppData\\Local\\Temp\\ipykernel_33304\\168406414.py:1: SettingWithCopyWarning: \n",
      "A value is trying to be set on a copy of a slice from a DataFrame\n",
      "\n",
      "See the caveats in the documentation: https://pandas.pydata.org/pandas-docs/stable/user_guide/indexing.html#returning-a-view-versus-a-copy\n",
      "  df3.drop('URLLength', axis=1, inplace=True)\n"
     ]
    }
   ],
   "source": [
    "df3.drop('URLLength', axis=1, inplace=True)"
   ]
  },
  {
   "cell_type": "code",
   "execution_count": 16,
   "metadata": {},
   "outputs": [
    {
     "data": {
      "text/html": [
       "<div>\n",
       "<style scoped>\n",
       "    .dataframe tbody tr th:only-of-type {\n",
       "        vertical-align: middle;\n",
       "    }\n",
       "\n",
       "    .dataframe tbody tr th {\n",
       "        vertical-align: top;\n",
       "    }\n",
       "\n",
       "    .dataframe thead th {\n",
       "        text-align: right;\n",
       "    }\n",
       "</style>\n",
       "<table border=\"1\" class=\"dataframe\">\n",
       "  <thead>\n",
       "    <tr style=\"text-align: right;\">\n",
       "      <th></th>\n",
       "      <th>url</th>\n",
       "      <th>result</th>\n",
       "      <th>label</th>\n",
       "    </tr>\n",
       "  </thead>\n",
       "  <tbody>\n",
       "    <tr>\n",
       "      <th>11</th>\n",
       "      <td>http://www.teramill.com</td>\n",
       "      <td>0</td>\n",
       "      <td>malicious</td>\n",
       "    </tr>\n",
       "    <tr>\n",
       "      <th>20</th>\n",
       "      <td>http://www.f0519141.xsph.ru</td>\n",
       "      <td>0</td>\n",
       "      <td>malicious</td>\n",
       "    </tr>\n",
       "    <tr>\n",
       "      <th>21</th>\n",
       "      <td>http://www.shprakserf.gq</td>\n",
       "      <td>0</td>\n",
       "      <td>malicious</td>\n",
       "    </tr>\n",
       "    <tr>\n",
       "      <th>27</th>\n",
       "      <td>https://service-mitld.firebaseapp.com/</td>\n",
       "      <td>0</td>\n",
       "      <td>malicious</td>\n",
       "    </tr>\n",
       "    <tr>\n",
       "      <th>28</th>\n",
       "      <td>http://www.kuradox92.lima-city.de</td>\n",
       "      <td>0</td>\n",
       "      <td>malicious</td>\n",
       "    </tr>\n",
       "    <tr>\n",
       "      <th>...</th>\n",
       "      <td>...</td>\n",
       "      <td>...</td>\n",
       "      <td>...</td>\n",
       "    </tr>\n",
       "    <tr>\n",
       "      <th>235780</th>\n",
       "      <td>https://ww.prestamo.enlinea.pe.vpphoangha.vn/</td>\n",
       "      <td>0</td>\n",
       "      <td>malicious</td>\n",
       "    </tr>\n",
       "    <tr>\n",
       "      <th>235782</th>\n",
       "      <td>http://goldenrod-motley-texture.glitch.me/hvwa...</td>\n",
       "      <td>0</td>\n",
       "      <td>malicious</td>\n",
       "    </tr>\n",
       "    <tr>\n",
       "      <th>235783</th>\n",
       "      <td>https://bancolombia.com1home0892.repl.co/?2</td>\n",
       "      <td>0</td>\n",
       "      <td>malicious</td>\n",
       "    </tr>\n",
       "    <tr>\n",
       "      <th>235784</th>\n",
       "      <td>https://aol-108318.weeblysite.com/</td>\n",
       "      <td>0</td>\n",
       "      <td>malicious</td>\n",
       "    </tr>\n",
       "    <tr>\n",
       "      <th>235793</th>\n",
       "      <td>https://patient-cell-40f5.updatedlogmylogin.wo...</td>\n",
       "      <td>0</td>\n",
       "      <td>malicious</td>\n",
       "    </tr>\n",
       "  </tbody>\n",
       "</table>\n",
       "<p>100945 rows × 3 columns</p>\n",
       "</div>"
      ],
      "text/plain": [
       "                                                      url  result      label\n",
       "11                                http://www.teramill.com       0  malicious\n",
       "20                            http://www.f0519141.xsph.ru       0  malicious\n",
       "21                               http://www.shprakserf.gq       0  malicious\n",
       "27                 https://service-mitld.firebaseapp.com/       0  malicious\n",
       "28                      http://www.kuradox92.lima-city.de       0  malicious\n",
       "...                                                   ...     ...        ...\n",
       "235780      https://ww.prestamo.enlinea.pe.vpphoangha.vn/       0  malicious\n",
       "235782  http://goldenrod-motley-texture.glitch.me/hvwa...       0  malicious\n",
       "235783        https://bancolombia.com1home0892.repl.co/?2       0  malicious\n",
       "235784                 https://aol-108318.weeblysite.com/       0  malicious\n",
       "235793  https://patient-cell-40f5.updatedlogmylogin.wo...       0  malicious\n",
       "\n",
       "[100945 rows x 3 columns]"
      ]
     },
     "execution_count": 16,
     "metadata": {},
     "output_type": "execute_result"
    }
   ],
   "source": [
    "df3"
   ]
  },
  {
   "cell_type": "code",
   "execution_count": 17,
   "metadata": {},
   "outputs": [],
   "source": [
    "df3 = df3[['url', 'label', 'result']]"
   ]
  },
  {
   "cell_type": "code",
   "execution_count": 22,
   "metadata": {},
   "outputs": [],
   "source": [
    "df3['result'] = 1"
   ]
  },
  {
   "cell_type": "code",
   "execution_count": 23,
   "metadata": {},
   "outputs": [],
   "source": [
    "new_combined_df = pd.concat([combined_df, df3], ignore_index=True)"
   ]
  },
  {
   "cell_type": "code",
   "execution_count": 24,
   "metadata": {},
   "outputs": [],
   "source": [
    "new_combined_df.to_csv('url_phis_extra.csv')"
   ]
  },
  {
   "cell_type": "code",
   "execution_count": 27,
   "metadata": {},
   "outputs": [
    {
     "data": {
      "text/plain": [
       "467"
      ]
     },
     "execution_count": 27,
     "metadata": {},
     "output_type": "execute_result"
    }
   ],
   "source": [
    "new_combined_df.duplicated().sum()"
   ]
  },
  {
   "cell_type": "code",
   "execution_count": 28,
   "metadata": {},
   "outputs": [],
   "source": [
    "last_df = new_combined_df.drop_duplicates(keep='first',ignore_index=False)"
   ]
  },
  {
   "cell_type": "code",
   "execution_count": 30,
   "metadata": {},
   "outputs": [
    {
     "data": {
      "text/plain": [
       "0"
      ]
     },
     "execution_count": 30,
     "metadata": {},
     "output_type": "execute_result"
    }
   ],
   "source": [
    "last_df.duplicated().sum()"
   ]
  },
  {
   "cell_type": "code",
   "execution_count": 31,
   "metadata": {},
   "outputs": [],
   "source": [
    "last_df.to_csv('url_phill_extra.csv')"
   ]
  },
  {
   "cell_type": "code",
   "execution_count": null,
   "metadata": {},
   "outputs": [],
   "source": []
  }
 ],
 "metadata": {
  "kernelspec": {
   "display_name": "Python 3",
   "language": "python",
   "name": "python3"
  },
  "language_info": {
   "codemirror_mode": {
    "name": "ipython",
    "version": 3
   },
   "file_extension": ".py",
   "mimetype": "text/x-python",
   "name": "python",
   "nbconvert_exporter": "python",
   "pygments_lexer": "ipython3",
   "version": "3.11.4"
  }
 },
 "nbformat": 4,
 "nbformat_minor": 2
}
